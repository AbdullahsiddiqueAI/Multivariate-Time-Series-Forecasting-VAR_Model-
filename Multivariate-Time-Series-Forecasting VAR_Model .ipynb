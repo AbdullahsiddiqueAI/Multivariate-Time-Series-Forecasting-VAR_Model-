{
 "cells": [
  {
   "cell_type": "code",
   "execution_count": null,
   "id": "39dc4591",
   "metadata": {},
   "outputs": [],
   "source": [
    "# ---------------------Vector Auto Regression ----------------------\n",
    "from statsmodels.graphics.tsaplots import plot_acf, plot_pacf\n",
    "from statsmodels.tsa.statespace.varmax import VARMAX\n",
    "from statsmodels.tsa.api import VAR\n",
    "from statsmodels.tsa.stattools import grangercausalitytests, adfuller\n",
    "from tqdm import tqdm_notebook\n",
    "from itertools import product\n",
    "\n",
    "import matplotlib.pyplot as plt\n",
    "import statsmodels.api as sm\n",
    "import pandas as pd\n",
    "import numpy as np\n",
    "\n",
    "import warnings\n",
    "warnings.filterwarnings('ignore')"
   ]
  },
  {
   "cell_type": "markdown",
   "id": "fec104ce",
   "metadata": {},
   "source": [
    "# VECTOR AUTO REGRESSION EQUATION:"
   ]
  },
  {
   "cell_type": "code",
   "execution_count": null,
   "id": "49736f5a",
   "metadata": {},
   "outputs": [],
   "source": [
    "# .)In this like in sales it increses with date suppose there is another factor \n",
    "# production base on which the sales is incrseing so we hve to tke that facor also\n",
    "# in consideration so in folrmula that factor previos state will also eb added ."
   ]
  },
  {
   "cell_type": "code",
   "execution_count": null,
   "id": "3d1fc075",
   "metadata": {
    "collapsed": true
   },
   "outputs": [],
   "source": [
    "filepath = 'https://raw.githubusercontent.com/selva86/datasets/master/Raotbl6.csv'\n",
    "macro_data = pd.read_csv(filepath, parse_dates=['date'], index_col='date')\n",
    "print(macro_data.shape)  # (123, 8)\n",
    "macro_data.head()"
   ]
  },
  {
   "cell_type": "code",
   "execution_count": null,
   "id": "3626d76e",
   "metadata": {
    "collapsed": true
   },
   "outputs": [],
   "source": [
    "fig, axes = plt.subplots(nrows=4, ncols=2, dpi=120, figsize=(10,6))\n",
    "for i, ax in enumerate(axes.flatten()):\n",
    "    data = macro_data[macro_data.columns[i]]\n",
    "    ax.plot(data, color='red', linewidth=1)\n",
    "    # Decorations\n",
    "    ax.set_title(macro_data.columns[i])\n",
    "    ax.xaxis.set_ticks_position('none')\n",
    "    ax.yaxis.set_ticks_position('none')\n",
    "    ax.spines[\"top\"].set_alpha(0)\n",
    "    ax.tick_params(labelsize=6)\n",
    "\n",
    "plt.tight_layout();"
   ]
  },
  {
   "cell_type": "code",
   "execution_count": null,
   "id": "7d66c36c",
   "metadata": {
    "collapsed": true
   },
   "outputs": [],
   "source": [
    "# .)For multivainte in CAR we are tking 2 columns from above 'rgnp' anf 'ulc'\n",
    "\n",
    "# .)the lw checking data stationary or not of both columns by dickey fuler test. if \n",
    "# p value less than 0.05 then it stationary otherwise not.\n",
    "\n",
    "ad_fuller_result_1 = adfuller(macro_data['rgnp'])\n",
    "\n",
    "print('realgdp')\n",
    "print(f'ADF Statistic: {ad_fuller_result_1[0]}')\n",
    "print(f'p-value: {ad_fuller_result_1[1]}')\n",
    "\n",
    "print('\\n---------------------\\n')\n",
    "\n",
    "ad_fuller_result_2 = adfuller(macro_data['ulc'])\n",
    "\n",
    "print('realcons')\n",
    "print(f'ADF Statistic: {ad_fuller_result_2[0]}')\n",
    "print(f'p-value: {ad_fuller_result_2[1]}')"
   ]
  },
  {
   "cell_type": "code",
   "execution_count": null,
   "id": "9e032c67",
   "metadata": {
    "collapsed": true
   },
   "outputs": [],
   "source": [
    "# .)Above data is not stationary so i am applying differncing time shift. \n",
    "\n",
    "# acro_data['rgnp']: This selects the rgnp column from the macro_data DataFrame.\n",
    "# .diff(): This method computes the difference between each element in the column and the previous element, effectively performing a first-order differencing.\n",
    "# [1:]: This slices the differenced series to exclude the first element, which is NaN (because there is no previous element to subtract from the first element).\n",
    "ad_fuller_result_1 = adfuller(macro_data['rgnp'].diff()[1:])\n",
    "\n",
    "print('realgdp')\n",
    "print(f'ADF Statistic: {ad_fuller_result_1[0]}')\n",
    "print(f'p-value: {ad_fuller_result_1[1]}')\n",
    "\n",
    "print('\\n---------------------\\n')\n",
    "\n",
    "ad_fuller_result_2 = adfuller(macro_data['ulc'].diff()[1:])\n",
    "\n",
    "print('realcons')\n",
    "print(f'ADF Statistic: {ad_fuller_result_2[0]}')\n",
    "print(f'p-value: {ad_fuller_result_2[1]}')\n",
    "# .)Now both p values are less than 0.0.5 so the data is stationary.\n",
    "# we hve to is multiple time diff until data become stationary."
   ]
  },
  {
   "cell_type": "code",
   "execution_count": null,
   "id": "d29ed7e1",
   "metadata": {
    "collapsed": true
   },
   "outputs": [],
   "source": [
    "# .)When we deal with 2 timeseries columns we hve to check the correltion btw them thus we \n",
    "# can do by grangercausalitytests test.\n",
    "\n",
    "# .)If p value is leas then 0.05 theat means it cause.\n",
    "\n",
    "\n",
    "# The code granger_1 = grangercausalitytests(macro_data[['ulc', 'rgnp']], 4) is used to perform the Granger causality test, which is a statistical hypothesis test for determining whether one time series can predict another time series. Specifically, this code is testing whether the time series ulc (unit labor cost) can predict the time series rgnp (real gross national product) and vice versa.\n",
    "\n",
    "# p-Value: Helps determine the statistical significance of the test. A lower p-value (typically less than 0.05) suggests that the lagged values of one series significantly improve the prediction of the other series.\n",
    "print('rgnp causes ulc?\\n')\n",
    "print('------------------')\n",
    "granger_1 = grangercausalitytests(macro_data[['ulc', 'rgnp']], 4)\n",
    "\n",
    "print('\\nulc causes rgnp?\\n')\n",
    "print('------------------')\n",
    "granger_2 = grangercausalitytests(macro_data[['rgnp', 'ulc']], 4)"
   ]
  },
  {
   "cell_type": "markdown",
   "id": "7c768245",
   "metadata": {},
   "source": [
    "# Making new dataframe of selected column"
   ]
  },
  {
   "cell_type": "code",
   "execution_count": null,
   "id": "7a0bed26",
   "metadata": {
    "collapsed": true
   },
   "outputs": [],
   "source": [
    "macro_data = macro_data[['ulc','rgnp']]\n",
    "print(macro_data.shape)\n",
    "     "
   ]
  },
  {
   "cell_type": "code",
   "execution_count": null,
   "id": "c66b6c46",
   "metadata": {},
   "outputs": [],
   "source": [
    "train_df=macro_data[:-12]\n",
    "test_df=macro_data[-12:]"
   ]
  },
  {
   "cell_type": "code",
   "execution_count": null,
   "id": "c26a986a",
   "metadata": {},
   "outputs": [],
   "source": [
    "print(test_df.shape)"
   ]
  },
  {
   "cell_type": "code",
   "execution_count": null,
   "id": "839ab00a",
   "metadata": {},
   "outputs": [],
   "source": [
    "# .)The value were not stationary i hve apply diff of 1 to mke it stationary as i check \n",
    "# it above after mking diff of 1 it becomes stationary .\n",
    "model = VAR(train_df.diff()[1:])"
   ]
  },
  {
   "cell_type": "code",
   "execution_count": null,
   "id": "48fe93ba",
   "metadata": {
    "collapsed": true
   },
   "outputs": [],
   "source": [
    "# .)By select order it will give the value of AIC and many more and we hve to chekc \n",
    "# that at which index the AIV value is minimum at we will tke taht index an that will \n",
    "# be the value of lag which we hve to use for good model . \n",
    "sorted_order=model.select_order(maxlags=20)\n",
    "print(sorted_order.summary())\n",
    "# .)The blwe at 4 index minimum value is presenty. "
   ]
  },
  {
   "cell_type": "code",
   "execution_count": null,
   "id": "f160736d",
   "metadata": {
    "collapsed": true
   },
   "outputs": [],
   "source": [
    "# .)In blw i hvent pass statinary data i hve passed orignal data abd in order previously 3\n",
    "# para which were p i and q no in VARMAX we giv only p vlu which are lags which we find\n",
    "# above is 4 and i is 0 and enforce_stationarity= True will enforce the \n",
    "# parameter that it they should enforcestationay.\n",
    "\n",
    "# .)The blw VARMAX make forecasting es thatswhy iam using it . \n",
    "# 4 is aut reg lags and 0 is moving avg lags.mov avg dont exist so its 0;\n",
    "var_model = VARMAX(train_df, order=(4,0),enforce_stationarity= True)\n",
    "fitted_model = var_model.fit(disp=False)\n",
    "print(fitted_model.summary())"
   ]
  },
  {
   "cell_type": "code",
   "execution_count": null,
   "id": "a5d4e1ad",
   "metadata": {},
   "outputs": [],
   "source": [
    "n_forecast = 12\n",
    "predict = fitted_model.get_prediction(start=len(train_df),end=len(train_df) + n_forecast-1)#start=\"1989-07-01\",end='1999-01-01')\n",
    "\n",
    "predictions=predict.predicted_mean"
   ]
  },
  {
   "cell_type": "code",
   "execution_count": null,
   "id": "4ceb3607",
   "metadata": {
    "collapsed": true
   },
   "outputs": [],
   "source": [
    "\n",
    "predictions.columns=['ulc_predicted','rgnp_predicted']\n",
    "predictions"
   ]
  },
  {
   "cell_type": "code",
   "execution_count": null,
   "id": "1a8f65e3",
   "metadata": {},
   "outputs": [],
   "source": [
    "test_vs_pred=pd.concat([test_df,predictions],axis=1)"
   ]
  },
  {
   "cell_type": "code",
   "execution_count": null,
   "id": "a57b2c4e",
   "metadata": {
    "collapsed": true
   },
   "outputs": [],
   "source": [
    "test_vs_pred.tail()"
   ]
  },
  {
   "cell_type": "code",
   "execution_count": null,
   "id": "04d6bddc",
   "metadata": {
    "collapsed": true
   },
   "outputs": [],
   "source": [
    "test_vs_pred.plot(figsize=(12,5))"
   ]
  },
  {
   "cell_type": "code",
   "execution_count": null,
   "id": "8f600070",
   "metadata": {},
   "outputs": [],
   "source": [
    "from sklearn.metrics import mean_squared_error\n",
    "import math \n",
    "from statistics import mean\n",
    "\n",
    "rmse_ulc=math.sqrt(mean_squared_error(predictions['ulc_predicted'],test_df['ulc']))\n",
    "print('Mean value of ULC is : {}. Root Mean Squared Error is :{}'.format(mean(test_df['ulc'])\n",
    "                                                                         ,rmse_ulc))\n",
    "\n",
    "rmse_rgnp=math.sqrt(mean_squared_error(predictions['rgnp_predicted'],test_df['rgnp']))\n",
    "\n",
    "print('Mean value of RGNP is : {}. Root Mean Squared Error is :{}'.\n",
    "      format(mean(test_df['rgnp']),rmse_rgnp))"
   ]
  },
  {
   "cell_type": "code",
   "execution_count": null,
   "id": "758f2e25",
   "metadata": {},
   "outputs": [],
   "source": [
    "Ratio of RMSE to Mean for ULC:\n",
    "\n",
    "Ratio for ULC\n",
    "=\n",
    "RMSE of ULC\n",
    "Mean value of ULC\n",
    "=\n",
    "52.74258110587016\n",
    "178.56666666666666\n",
    "\n",
    "\n",
    "Ratio for ULC= \n",
    "Mean value of ULC\n",
    "RMSE of ULC\n",
    "​\n",
    " = \n",
    "178.56666666666666\n",
    "52.74258110587016\n",
    "​\n",
    " \n",
    " \n",
    "Ratio of RMSE to Mean for RGNP:\n",
    "\n",
    "Ratio for RGNP\n",
    "=\n",
    "RMSE of RGNP\n",
    "Mean value of RGNP\n",
    "=\n",
    "342.36207564516775\n",
    "3970.6916666666666\n",
    "\n",
    "\n",
    "Ratio for RGNP= \n",
    "Mean value of RGNP\n",
    "RMSE of RGNP\n",
    "​\n",
    " = \n",
    "3970.6916666666666\n",
    "342.36207564516775\n",
    "\n",
    "\n",
    "​\n",
    " \n",
    "Let's calculate these ratios:\n",
    "\n",
    "Ratio for ULC\n",
    "=\n",
    "52.74258110587016\n",
    "178.56666666666666\n",
    "≈\n",
    "0.2953\n",
    "Ratio for ULC= \n",
    "178.56666666666666\n",
    "52.74258110587016\n",
    "​\n",
    " ≈0.2953\n",
    " \n",
    " \n",
    "\n",
    "Ratio for RGNP\n",
    "=\n",
    "342.36207564516775\n",
    "3970.6916666666666\n",
    "≈\n",
    "0.0862\n",
    "\n",
    "Ratio for RGNP= \n",
    "3970.6916666666666\n",
    "342.36207564516775\n",
    "​\n",
    " ≈0.0862"
   ]
  },
  {
   "cell_type": "code",
   "execution_count": null,
   "id": "35603b04",
   "metadata": {},
   "outputs": [],
   "source": []
  },
  {
   "cell_type": "code",
   "execution_count": null,
   "id": "1bcbdfc7",
   "metadata": {},
   "outputs": [],
   "source": []
  },
  {
   "cell_type": "code",
   "execution_count": null,
   "id": "c51e8a08",
   "metadata": {},
   "outputs": [],
   "source": []
  },
  {
   "cell_type": "code",
   "execution_count": null,
   "id": "4b4d4034",
   "metadata": {},
   "outputs": [],
   "source": []
  },
  {
   "cell_type": "code",
   "execution_count": null,
   "id": "82478ef0",
   "metadata": {},
   "outputs": [],
   "source": []
  },
  {
   "cell_type": "code",
   "execution_count": null,
   "id": "4d05b8fd",
   "metadata": {},
   "outputs": [],
   "source": []
  },
  {
   "cell_type": "code",
   "execution_count": null,
   "id": "eb051493",
   "metadata": {},
   "outputs": [],
   "source": []
  },
  {
   "cell_type": "code",
   "execution_count": null,
   "id": "1da4e7b4",
   "metadata": {},
   "outputs": [],
   "source": []
  },
  {
   "cell_type": "code",
   "execution_count": null,
   "id": "5bd917d1",
   "metadata": {},
   "outputs": [],
   "source": []
  },
  {
   "cell_type": "code",
   "execution_count": null,
   "id": "982ad19d",
   "metadata": {},
   "outputs": [],
   "source": []
  },
  {
   "cell_type": "code",
   "execution_count": null,
   "id": "2d86c9b0",
   "metadata": {},
   "outputs": [],
   "source": []
  }
 ],
 "metadata": {
  "kernelspec": {
   "display_name": "Python 3 (ipykernel)",
   "language": "python",
   "name": "python3"
  },
  "language_info": {
   "codemirror_mode": {
    "name": "ipython",
    "version": 3
   },
   "file_extension": ".py",
   "mimetype": "text/x-python",
   "name": "python",
   "nbconvert_exporter": "python",
   "pygments_lexer": "ipython3",
   "version": "3.11.5"
  }
 },
 "nbformat": 4,
 "nbformat_minor": 5
}
